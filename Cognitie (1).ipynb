{
 "cells": [
  {
   "cell_type": "code",
   "execution_count": 8,
   "metadata": {},
   "outputs": [
    {
     "name": "stdout",
     "output_type": "stream",
     "text": [
      "Defaulting to user installation because normal site-packages is not writeable\n",
      "Requirement already satisfied: pandas in c:\\users\\gebruiker\\appdata\\roaming\\python\\python313\\site-packages (2.2.3)\n",
      "Requirement already satisfied: numpy>=1.26.0 in c:\\users\\gebruiker\\appdata\\roaming\\python\\python313\\site-packages (from pandas) (2.2.1)\n",
      "Requirement already satisfied: python-dateutil>=2.8.2 in c:\\users\\gebruiker\\appdata\\roaming\\python\\python313\\site-packages (from pandas) (2.9.0.post0)\n",
      "Requirement already satisfied: pytz>=2020.1 in c:\\users\\gebruiker\\appdata\\roaming\\python\\python313\\site-packages (from pandas) (2024.2)\n",
      "Requirement already satisfied: tzdata>=2022.7 in c:\\users\\gebruiker\\appdata\\roaming\\python\\python313\\site-packages (from pandas) (2024.2)\n",
      "Requirement already satisfied: six>=1.5 in c:\\users\\gebruiker\\appdata\\roaming\\python\\python313\\site-packages (from python-dateutil>=2.8.2->pandas) (1.17.0)\n",
      "Defaulting to user installation because normal site-packages is not writeable\n",
      "Requirement already satisfied: numpy in c:\\users\\gebruiker\\appdata\\roaming\\python\\python313\\site-packages (2.2.1)\n",
      "Defaulting to user installation because normal site-packages is not writeable\n",
      "Requirement already satisfied: matplotlib in c:\\users\\gebruiker\\appdata\\roaming\\python\\python313\\site-packages (3.10.0)\n",
      "Requirement already satisfied: contourpy>=1.0.1 in c:\\users\\gebruiker\\appdata\\roaming\\python\\python313\\site-packages (from matplotlib) (1.3.1)\n",
      "Requirement already satisfied: cycler>=0.10 in c:\\users\\gebruiker\\appdata\\roaming\\python\\python313\\site-packages (from matplotlib) (0.12.1)\n",
      "Requirement already satisfied: fonttools>=4.22.0 in c:\\users\\gebruiker\\appdata\\roaming\\python\\python313\\site-packages (from matplotlib) (4.55.3)\n",
      "Requirement already satisfied: kiwisolver>=1.3.1 in c:\\users\\gebruiker\\appdata\\roaming\\python\\python313\\site-packages (from matplotlib) (1.4.8)\n",
      "Requirement already satisfied: numpy>=1.23 in c:\\users\\gebruiker\\appdata\\roaming\\python\\python313\\site-packages (from matplotlib) (2.2.1)\n",
      "Requirement already satisfied: packaging>=20.0 in c:\\users\\gebruiker\\appdata\\roaming\\python\\python313\\site-packages (from matplotlib) (24.2)\n",
      "Requirement already satisfied: pillow>=8 in c:\\users\\gebruiker\\appdata\\roaming\\python\\python313\\site-packages (from matplotlib) (11.1.0)\n",
      "Requirement already satisfied: pyparsing>=2.3.1 in c:\\users\\gebruiker\\appdata\\roaming\\python\\python313\\site-packages (from matplotlib) (3.2.1)\n",
      "Requirement already satisfied: python-dateutil>=2.7 in c:\\users\\gebruiker\\appdata\\roaming\\python\\python313\\site-packages (from matplotlib) (2.9.0.post0)\n",
      "Requirement already satisfied: six>=1.5 in c:\\users\\gebruiker\\appdata\\roaming\\python\\python313\\site-packages (from python-dateutil>=2.7->matplotlib) (1.17.0)\n",
      "Defaulting to user installation because normal site-packages is not writeable\n",
      "Requirement already satisfied: scipy in c:\\users\\gebruiker\\appdata\\roaming\\python\\python313\\site-packages (1.15.0)\n",
      "Requirement already satisfied: numpy<2.5,>=1.23.5 in c:\\users\\gebruiker\\appdata\\roaming\\python\\python313\\site-packages (from scipy) (2.2.1)\n",
      "Defaulting to user installation because normal site-packages is not writeable\n",
      "Requirement already satisfied: openpyxl in c:\\users\\gebruiker\\appdata\\roaming\\python\\python313\\site-packages (3.1.5)\n",
      "Requirement already satisfied: et-xmlfile in c:\\users\\gebruiker\\appdata\\roaming\\python\\python313\\site-packages (from openpyxl) (2.0.0)\n"
     ]
    }
   ],
   "source": [
    "!pip install pandas\n",
    "!pip install numpy\n",
    "!pip install matplotlib\n",
    "!pip install scipy\n",
    "!pip install openpyxl"
   ]
  },
  {
   "cell_type": "code",
   "execution_count": 9,
   "metadata": {
    "id": "XxBz-27Adflx"
   },
   "outputs": [],
   "source": [
    "import pandas as pd\n",
    "import numpy as np\n",
    "import matplotlib.pyplot as plt\n",
    "from scipy import stats\n",
    "from scipy.stats import shapiro\n",
    "from scipy.stats import wilcoxon\n",
    "from scipy.stats import zscore"
   ]
  },
  {
   "cell_type": "code",
   "execution_count": 10,
   "metadata": {
    "id": "7ScPhwgrd9fp"
   },
   "outputs": [],
   "source": [
    "cp = pd.read_excel(\"cp_data_schoon.xlsx\")"
   ]
  },
  {
   "cell_type": "code",
   "execution_count": 11,
   "metadata": {
    "colab": {
     "base_uri": "https://localhost:8080/",
     "height": 569
    },
    "id": "Et5rfotEv2mi",
    "outputId": "584729fe-a1bf-4ab9-9b9e-8a2b67c8df7e"
   },
   "outputs": [
    {
     "data": {
      "text/plain": [
       "{'whiskers': [<matplotlib.lines.Line2D at 0x1bdf6a1fb10>,\n",
       "  <matplotlib.lines.Line2D at 0x1bdf6a1fc50>],\n",
       " 'caps': [<matplotlib.lines.Line2D at 0x1bdf6a1fd90>,\n",
       "  <matplotlib.lines.Line2D at 0x1bdf6a1fed0>],\n",
       " 'boxes': [<matplotlib.lines.Line2D at 0x1bdf688e350>],\n",
       " 'medians': [<matplotlib.lines.Line2D at 0x1bdf6a50050>],\n",
       " 'fliers': [<matplotlib.lines.Line2D at 0x1bdf6a50190>],\n",
       " 'means': []}"
      ]
     },
     "execution_count": 11,
     "metadata": {},
     "output_type": "execute_result"
    },
    {
     "data": {
      "image/png": "[encoded data removed]",
      "text/plain": [
       "<Figure size 640x480 with 1 Axes>"
      ]
     },
     "metadata": {},
     "output_type": "display_data"
    }
   ],
   "source": [
    "#cp = cp[cp['uschermtijd'] < 12 ]\n",
    "plt.boxplot(cp['uschermtijd'])"
   ]
  },
  {
   "cell_type": "code",
   "execution_count": null,
   "metadata": {
    "id": "2Fjra_UBeoBx"
   },
   "outputs": [],
   "source": []
  },
  {
   "cell_type": "markdown",
   "metadata": {
    "id": "EgbnLVtai1QE"
   },
   "source": []
  },
  {
   "cell_type": "code",
   "execution_count": 12,
   "metadata": {
    "colab": {
     "base_uri": "https://localhost:8080/",
     "height": 569
    },
    "id": "v48wukK2iDJa",
    "outputId": "de2faa59-0efd-458d-bf7a-4aa1f30cb4c9"
   },
   "outputs": [
    {
     "data": {
      "text/plain": [
       "{'whiskers': [<matplotlib.lines.Line2D at 0x1bdf6ac96d0>,\n",
       "  <matplotlib.lines.Line2D at 0x1bdf6ac9810>],\n",
       " 'caps': [<matplotlib.lines.Line2D at 0x1bdf6ac9950>,\n",
       "  <matplotlib.lines.Line2D at 0x1bdf6ac9a90>],\n",
       " 'boxes': [<matplotlib.lines.Line2D at 0x1bdf6ac9590>],\n",
       " 'medians': [<matplotlib.lines.Line2D at 0x1bdf6ac9bd0>],\n",
       " 'fliers': [<matplotlib.lines.Line2D at 0x1bdf6ac9d10>],\n",
       " 'means': []}"
      ]
     },
     "execution_count": 12,
     "metadata": {},
     "output_type": "execute_result"
    },
    {
     "data": {
      "image/png": "[encoded data removed]",
      "text/plain": [
       "<Figure size 640x480 with 1 Axes>"
      ]
     },
     "metadata": {},
     "output_type": "display_data"
    }
   ],
   "source": [
    "#outliers weghalen\n",
    "cp = cp[cp['umedia'] < 8 ]\n",
    "plt.boxplot(cp[\"umedia\"])\n"
   ]
  },
  {
   "cell_type": "code",
   "execution_count": 13,
   "metadata": {
    "colab": {
     "base_uri": "https://localhost:8080/",
     "height": 569
    },
    "id": "qZxEnXGwiDtw",
    "outputId": "63495d04-ae17-42ea-9b8e-606149df654f"
   },
   "outputs": [
    {
     "data": {
      "text/plain": [
       "{'whiskers': [<matplotlib.lines.Line2D at 0x1bdf6b3a0d0>,\n",
       "  <matplotlib.lines.Line2D at 0x1bdf6b3a210>],\n",
       " 'caps': [<matplotlib.lines.Line2D at 0x1bdf6b3a350>,\n",
       "  <matplotlib.lines.Line2D at 0x1bdf6b3a490>],\n",
       " 'boxes': [<matplotlib.lines.Line2D at 0x1bdf6b39f90>],\n",
       " 'medians': [<matplotlib.lines.Line2D at 0x1bdf6b3a5d0>],\n",
       " 'fliers': [<matplotlib.lines.Line2D at 0x1bdf6b3a710>],\n",
       " 'means': []}"
      ]
     },
     "execution_count": 13,
     "metadata": {},
     "output_type": "execute_result"
    },
    {
     "data": {
      "image/png": "[encoded data removed]",
      "text/plain": [
       "<Figure size 640x480 with 1 Axes>"
      ]
     },
     "metadata": {},
     "output_type": "display_data"
    }
   ],
   "source": [
    "#outliers weghalen\n",
    "\n",
    "plt.boxplot(cp[\"mrpercentage\"])\n"
   ]
  },
  {
   "cell_type": "code",
   "execution_count": 14,
   "metadata": {
    "colab": {
     "base_uri": "https://localhost:8080/",
     "height": 569
    },
    "id": "7Xbk0MQkjZLD",
    "outputId": "413369a3-eaef-41d1-e62f-01aa15838d9f"
   },
   "outputs": [
    {
     "data": {
      "text/plain": [
       "{'whiskers': [<matplotlib.lines.Line2D at 0x1bdf69a5450>,\n",
       "  <matplotlib.lines.Line2D at 0x1bdf69a5590>],\n",
       " 'caps': [<matplotlib.lines.Line2D at 0x1bdf69a56d0>,\n",
       "  <matplotlib.lines.Line2D at 0x1bdf69a5810>],\n",
       " 'boxes': [<matplotlib.lines.Line2D at 0x1bdf69a5310>],\n",
       " 'medians': [<matplotlib.lines.Line2D at 0x1bdf69a5950>],\n",
       " 'fliers': [<matplotlib.lines.Line2D at 0x1bdf69a5a90>],\n",
       " 'means': []}"
      ]
     },
     "execution_count": 14,
     "metadata": {},
     "output_type": "execute_result"
    },
    {
     "data": {
      "image/png": "[encoded data removed]",
      "text/plain": [
       "<Figure size 640x480 with 1 Axes>"
      ]
     },
     "metadata": {},
     "output_type": "display_data"
    }
   ],
   "source": [
    "cp = cp[cp['mrtijd'] > 500 ]\n",
    "plt.boxplot(cp['mrtijd'])\n"
   ]
  },
  {
   "cell_type": "code",
   "execution_count": 15,
   "metadata": {
    "colab": {
     "base_uri": "https://localhost:8080/"
    },
    "id": "kxEX3w24lgYH",
    "outputId": "30004d29-21c2-4b40-beb2-3f4eea8414a4"
   },
   "outputs": [
    {
     "name": "stdout",
     "output_type": "stream",
     "text": [
      "0.9165958194800851 7.300144328615728e-05\n",
      "schermtijd Sample does not look Gaussian (reject H0)\n",
      "percentage Sample does not look Gaussian (reject H0)\n"
     ]
    }
   ],
   "source": [
    "from scipy import stats\n",
    "import numpy as np\n",
    "\n",
    "\n",
    "D, p = stats.kstest(cp['mrpercentage'], \"norm\")  # Perform a one-sided Kolmogorov-Smirnov test\n",
    "#print(cp['mrtijd'].corr(cp['umedia'], method= 'spearman'))\n",
    "\n",
    "data = cp['uschermtijd']\n",
    "data1 = cp['mrpercentage']\n",
    "data2 = cp['mrtijd']\n",
    "stat1, p1 = shapiro(data)\n",
    "stat2, p2 = shapiro(data2)\n",
    "\n",
    "\n",
    "\n",
    "alpha = 0.05\n",
    "print(stat1,p1 )\n",
    "if p > alpha:\n",
    "    print(' schermtijd Sample looks Gaussian (fail to reject H0)')\n",
    "else:\n",
    "    print('schermtijd Sample does not look Gaussian (reject H0)')\n",
    "\n",
    "if p1 > alpha:\n",
    "    print('precentage Sample looks Gaussian (fail to reject H0)')\n",
    "else:\n",
    "    print('percentage Sample does not look Gaussian (reject H0)')"
   ]
  },
  {
   "cell_type": "code",
   "execution_count": 16,
   "metadata": {
    "colab": {
     "base_uri": "https://localhost:8080/"
    },
    "id": "nfB-LpOwqyth",
    "outputId": "0aa17742-7b69-4e68-fde0-f1c8e4173241"
   },
   "outputs": [
    {
     "name": "stdout",
     "output_type": "stream",
     "text": [
      "There is a significant difference between the two datasets (reject H0)\n"
     ]
    }
   ],
   "source": [
    "stat, wil = wilcoxon(data, data1)\n",
    "alpha = 0.05\n",
    "if wil > alpha:\n",
    "    print('There is no significant difference between the two datasets (fail to reject H0)')\n",
    "else:\n",
    "    print('There is a significant difference between the two datasets (reject H0)')"
   ]
  },
  {
   "cell_type": "code",
   "execution_count": 17,
   "metadata": {
    "colab": {
     "base_uri": "https://localhost:8080/",
     "height": 569
    },
    "id": "AHZDVA3HvgOr",
    "outputId": "0feaade9-8c1a-47dc-9797-6bedf32a72c5"
   },
   "outputs": [
    {
     "data": {
      "text/plain": [
       "{'whiskers': [<matplotlib.lines.Line2D at 0x1bdf6bcc410>,\n",
       "  <matplotlib.lines.Line2D at 0x1bdf6bcc550>],\n",
       " 'caps': [<matplotlib.lines.Line2D at 0x1bdf6bcc690>,\n",
       "  <matplotlib.lines.Line2D at 0x1bdf6bcc7d0>],\n",
       " 'boxes': [<matplotlib.lines.Line2D at 0x1bdf6bcc2d0>],\n",
       " 'medians': [<matplotlib.lines.Line2D at 0x1bdf6bcc910>],\n",
       " 'fliers': [<matplotlib.lines.Line2D at 0x1bdf6bcca50>],\n",
       " 'means': []}"
      ]
     },
     "execution_count": 17,
     "metadata": {},
     "output_type": "execute_result"
    },
    {
     "data": {
      "image/png": "[encoded data removed]",
      "text/plain": [
       "<Figure size 640x480 with 1 Axes>"
      ]
     },
     "metadata": {},
     "output_type": "display_data"
    }
   ],
   "source": [
    "\n",
    "plt.boxplot(cp['mrpercentage'])"
   ]
  },
  {
   "cell_type": "code",
   "execution_count": 18,
   "metadata": {
    "colab": {
     "base_uri": "https://localhost:8080/"
    },
    "id": "4zYxOwJCq7QI",
    "outputId": "53d7f9aa-a526-4afa-c1af-a63473670403"
   },
   "outputs": [
    {
     "data": {
      "text/plain": [
       "(np.float64(1642.1772151898733),\n",
       " np.float64(1568.0),\n",
       " np.int64(1700),\n",
       " np.float64(554.1245985843328),\n",
       " np.float64(307054.07075624797))"
      ]
     },
     "execution_count": 18,
     "metadata": {},
     "output_type": "execute_result"
    }
   ],
   "source": [
    "ding = cp[\"mrtijd\"]\n",
    "ding.mean(), ding.median(), ding.mode()[0], ding.std(), ding.var(axis=0)"
   ]
  },
  {
   "cell_type": "markdown",
   "metadata": {
    "id": "DEIgvlN_bD7M"
   },
   "source": []
  },
  {
   "cell_type": "code",
   "execution_count": 19,
   "metadata": {
    "colab": {
     "base_uri": "https://localhost:8080/",
     "height": 452
    },
    "id": "i_ER6eamYVBK",
    "outputId": "61c6b139-7282-46e2-e197-b8948cc0a429"
   },
   "outputs": [
    {
     "data": {
      "image/png": "[encoded data removed]",
      "text/plain": [
       "<Figure size 640x480 with 1 Axes>"
      ]
     },
     "metadata": {},
     "output_type": "display_data"
    }
   ],
   "source": [
    "plt.title('Mental rotation in ms')\n",
    "plt.hist(ding)\n",
    "\n",
    "plt.savefig('hist.png')"
   ]
  },
  {
   "cell_type": "code",
   "execution_count": 20,
   "metadata": {
    "colab": {
     "base_uri": "https://localhost:8080/"
    },
    "id": "21vtT1mzapJm",
    "outputId": "408fe7e4-ad93-448c-d675-413c3e3a7a52"
   },
   "outputs": [
    {
     "data": {
      "text/plain": [
       "(np.float64(-0.09275661274737174), np.float64(0.4161877661577833))"
      ]
     },
     "execution_count": 20,
     "metadata": {},
     "output_type": "execute_result"
    }
   ],
   "source": [
    "from scipy.stats import spearmanr\n",
    "cor, p_value = spearmanr(cp[\"uschermtijd\"], cp[\"mrtijd\"])\n",
    "cor, p_value"
   ]
  },
  {
   "cell_type": "code",
   "execution_count": 21,
   "metadata": {
    "colab": {
     "base_uri": "https://localhost:8080/"
    },
    "id": "ZjE4Nhr-bCyt",
    "outputId": "00acc027-fbc8-413f-b682-40ec47d60861"
   },
   "outputs": [
    {
     "data": {
      "text/plain": [
       "(np.float64(0.027455696191367653), np.float64(0.8101851723336215))"
      ]
     },
     "execution_count": 21,
     "metadata": {},
     "output_type": "execute_result"
    }
   ],
   "source": [
    "cor, p_value = spearmanr(cp[\"uschermtijd\"], cp[\"mrpercentage\"])\n",
    "cor, p_value"
   ]
  },
  {
   "cell_type": "code",
   "execution_count": 22,
   "metadata": {
    "colab": {
     "base_uri": "https://localhost:8080/",
     "height": 466
    },
    "id": "8WIOXb7_bBPa",
    "outputId": "d6af793c-a233-4d74-ca09-021449345c82"
   },
   "outputs": [
    {
     "data": {
      "text/plain": [
       "[<matplotlib.lines.Line2D at 0x1bdf9dea490>]"
      ]
     },
     "execution_count": 22,
     "metadata": {},
     "output_type": "execute_result"
    },
    {
     "data": {
      "image/png": "[encoded data removed]",
      "text/plain": [
       "<Figure size 640x480 with 1 Axes>"
      ]
     },
     "metadata": {},
     "output_type": "display_data"
    }
   ],
   "source": [
    "#scatterplot 1\n",
    "x = cp[\"uschermtijd\"]\n",
    "y = cp[\"mrpercentage\"]\n",
    "plt.scatter(x, y)\n",
    "plt.xlabel('Schermtijd in uren')\n",
    "plt.ylabel('Percentage correct van mental rotation test')\n",
    "\n",
    "z = np.polyfit(x, y, 1)\n",
    "p = np.poly1d(z)\n",
    "plt.plot(x, p(x))"
   ]
  },
  {
   "cell_type": "code",
   "execution_count": 23,
   "metadata": {
    "colab": {
     "base_uri": "https://localhost:8080/",
     "height": 211
    },
    "id": "skdiQU71Wzv2",
    "outputId": "29f728dd-60a1-44a9-d8cc-ea079756aaf8"
   },
   "outputs": [
    {
     "ename": "NameError",
     "evalue": "name 'cp2' is not defined",
     "output_type": "error",
     "traceback": [
      "\u001b[1;31m---------------------------------------------------------------------------\u001b[0m",
      "\u001b[1;31mNameError\u001b[0m                                 Traceback (most recent call last)",
      "Cell \u001b[1;32mIn[23], line 2\u001b[0m\n\u001b[0;32m      1\u001b[0m \u001b[38;5;66;03m#scatterplot 2\u001b[39;00m\n\u001b[1;32m----> 2\u001b[0m x \u001b[38;5;241m=\u001b[39m \u001b[43mcp2\u001b[49m[\u001b[38;5;124m\"\u001b[39m\u001b[38;5;124muschermtijd\u001b[39m\u001b[38;5;124m\"\u001b[39m]\n\u001b[0;32m      3\u001b[0m y \u001b[38;5;241m=\u001b[39m cp2[\u001b[38;5;124m\"\u001b[39m\u001b[38;5;124mmrtijd\u001b[39m\u001b[38;5;124m\"\u001b[39m]\n\u001b[0;32m      4\u001b[0m plt\u001b[38;5;241m.\u001b[39mscatter(x, y)\n",
      "\u001b[1;31mNameError\u001b[0m: name 'cp2' is not defined"
     ]
    }
   ],
   "source": [
    "#scatterplot 2\n",
    "x = cp2[\"uschermtijd\"]\n",
    "y = cp2[\"mrtijd\"]\n",
    "plt.scatter(x, y)\n",
    "plt.xlabel('Schermtijd in uren')\n",
    "plt.ylabel('Tijd gedaan over mental rotation test')\n",
    "\n",
    "z = np.polyfit(x, y, 1)\n",
    "p = np.poly1d(z)\n",
    "plt.plot(x, p(x))"
   ]
  }
 ],
 "metadata": {
  "colab": {
   "provenance": []
  },
  "kernelspec": {
   "display_name": "Python 3 (ipykernel)",
   "language": "python",
   "name": "python3"
  },
  "language_info": {
   "codemirror_mode": {
    "name": "ipython",
    "version": 3
   },
   "file_extension": ".py",
   "mimetype": "text/x-python",
   "name": "python",
   "nbconvert_exporter": "python",
   "pygments_lexer": "ipython3",
   "version": "3.13.1"
  }
 },
 "nbformat": 4,
 "nbformat_minor": 4
}
